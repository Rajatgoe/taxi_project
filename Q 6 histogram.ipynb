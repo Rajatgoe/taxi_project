{
 "cells": [
  {
   "cell_type": "code",
   "execution_count": 7,
   "id": "07fc234a-1f78-4286-85cf-b5f5421cade2",
   "metadata": {},
   "outputs": [
    {
     "data": {
      "image/png": "[encoded data removed]",
      "text/plain": [
       "<Figure size 432x288 with 1 Axes>"
      ]
     },
     "metadata": {
      "needs_background": "light"
     },
     "output_type": "display_data"
    },
    {
     "name": "stdout",
     "output_type": "stream",
     "text": [
      "Average 2.7416122234633344\n"
     ]
    }
   ],
   "source": [
    "import csv\n",
    "import matplotlib.pyplot as plt      #you can import matplotlib in windows power shell to see the histogram\n",
    "fn = 'trip_data_2.csv'\n",
    "f = open(fn,'r')\n",
    "reader = csv.reader(f)\n",
    "x=[]\n",
    "y=[]\n",
    "for i, row in enumerate(reader):\n",
    "    if i==0:continue \n",
    "    x.append(round(float(row[9])))     # x is an array where I store the trip distances. Note I rounded up to whole number before storing it in the array.\n",
    "    y.append(float(row[9]))\n",
    "\n",
    "plt.hist(x, bins=20)     # gap between bins  Then I plotted the graph using\n",
    "plt.show()                                      #plt.hist(x, bins=20)\n",
    "\n",
    "avg = sum(y)/len(y) # I found the average Also, y is a list where I stored the trip distances. Note, that this time I did not round up. This is because I needed the actual value to find the trip average.\n",
    "print('Average', avg)  #for printing  Average 2.7416122234633344 \n",
    "f.close()"
   ]
  },
  {
   "cell_type": "code",
   "execution_count": null,
   "id": "c84c2b35-394e-486d-ac7c-a8e89506bb5d",
   "metadata": {},
   "outputs": [],
   "source": []
  },
  {
   "cell_type": "code",
   "execution_count": null,
   "id": "d41610b8-53f1-4631-94f9-2df353d5b1ae",
   "metadata": {},
   "outputs": [],
   "source": []
  },
  {
   "cell_type": "code",
   "execution_count": null,
   "id": "3c08f6c0-3374-45b1-9db4-9c63e406860a",
   "metadata": {},
   "outputs": [],
   "source": []
  }
 ],
 "metadata": {
  "kernelspec": {
   "display_name": "Python 3 (ipykernel)",
   "language": "python",
   "name": "python3"
  },
  "language_info": {
   "codemirror_mode": {
    "name": "ipython",
    "version": 3
   },
   "file_extension": ".py",
   "mimetype": "text/x-python",
   "name": "python",
   "nbconvert_exporter": "python",
   "pygments_lexer": "ipython3",
   "version": "3.7.0"
  }
 },
 "nbformat": 4,
 "nbformat_minor": 5
}
