{
 "cells": [
  {
   "cell_type": "code",
   "execution_count": null,
   "id": "f14b2b31-3885-40ca-80b0-894474402617",
   "metadata": {},
   "outputs": [],
   "source": [
    "import csv,time,datetime\n",
    "\n",
    "fn = 'trip_data_2.csv'\n",
    "f = open(fn,'r')\n",
    "reader = csv.reader(f)\n",
    "n = 0\n",
    "min_date = None\n",
    "max_date = None\n",
    "for row in reader:\n",
    "    dts = row[5]\n",
    "    dto = None  #setting up date time object\n",
    "    try:\n",
    "        dto = datetime.datetime.strptime(dts, '%Y/%d/%m %H:%M:%S')     #2013-02-08 23:35:14\n",
    "    except Exception as e:\n",
    "        print(e)\n",
    "    if dto is not None:            #first value will be minimum  (dto = new value)\n",
    "        if n == 0:\n",
    "            min_date = dto              \n",
    "            max_date = dto \n",
    "        elif dto < min_date:                     #if we get the new date smaller, the new date will be minimum \n",
    "            min_date = dto                           #and old date will be maximum\n",
    "        elif dto > max_date:               \n",
    "            max_date = dto\n",
    "        n+=1     # it only gonna count valid date( if new exist or we can say dto is not none)\n",
    "print(min_date, max_date)         # if n+=1 is used in last it gonna count each new row)\n",
    "\n",
    "        \n",
    "    \n"
   ]
  },
  {
   "cell_type": "code",
   "execution_count": null,
   "id": "80dff9bb-379b-4044-8fed-344a419e7c42",
   "metadata": {},
   "outputs": [],
   "source": []
  },
  {
   "cell_type": "code",
   "execution_count": null,
   "id": "52f9c069-fb7d-4409-97aa-379a29a4010b",
   "metadata": {},
   "outputs": [],
   "source": []
  },
  {
   "cell_type": "code",
   "execution_count": null,
   "id": "4d3e0f5c-9975-4e94-974c-acb0c67b982e",
   "metadata": {},
   "outputs": [],
   "source": []
  },
  {
   "cell_type": "code",
   "execution_count": null,
   "id": "fbf9322b-378d-4ddb-9deb-699f3efef221",
   "metadata": {},
   "outputs": [],
   "source": []
  }
 ],
 "metadata": {
  "kernelspec": {
   "display_name": "Python 3 (ipykernel)",
   "language": "python",
   "name": "python3"
  },
  "language_info": {
   "codemirror_mode": {
    "name": "ipython",
    "version": 3
   },
   "file_extension": ".py",
   "mimetype": "text/x-python",
   "name": "python",
   "nbconvert_exporter": "python",
   "pygments_lexer": "ipython3",
   "version": "3.7.0"
  }
 },
 "nbformat": 4,
 "nbformat_minor": 5
}
