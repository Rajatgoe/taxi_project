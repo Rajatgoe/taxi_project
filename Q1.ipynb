{
 "cells": [
  {
   "cell_type": "code",
   "execution_count": null,
   "id": "763bbe71-98d5-4238-8ca8-470fd8b28d05",
   "metadata": {},
   "outputs": [],
   "source": [
    "#group by:\n",
    "import csv, time,datetime\n",
    "fn = 'trip_data_2.csv'\n",
    "f = open(fn,'r')\n",
    "reader = csv.reader(f)\n",
    "n=0\n",
    "mindate = None\n",
    "maxdate = None\n",
    "\n",
    "for row in reader:\n",
    "    dts = row[10]\n",
    "    dto = None\n",
    "    try:\n",
    "        dto = float(dts(mindate,maxdate))     #2013-02-08 23:35:14\n",
    "    except Exception as e:\n",
    "        print(e)\n",
    "    if dto is not None:\n",
    "        if n == 0:\n",
    "            mindate = dto\n",
    "            maxdate = dto\n",
    "        elif dto < mindate:\n",
    "            mindate = dto\n",
    "        elif dto > maxdate:\n",
    "            maxdate = dto\n",
    "        n+=1\n",
    "print(mindate,maxdate)\n",
    "\n"
   ]
  },
  {
   "cell_type": "code",
   "execution_count": null,
   "id": "b21de329-b432-4729-bba4-666f2e5d22b6",
   "metadata": {},
   "outputs": [],
   "source": []
  },
  {
   "cell_type": "code",
   "execution_count": null,
   "id": "34dfdf6b-f809-40b2-96fd-f35f6c12f774",
   "metadata": {},
   "outputs": [],
   "source": []
  }
 ],
 "metadata": {
  "kernelspec": {
   "display_name": "Python 3 (ipykernel)",
   "language": "python",
   "name": "python3"
  },
  "language_info": {
   "codemirror_mode": {
    "name": "ipython",
    "version": 3
   },
   "file_extension": ".py",
   "mimetype": "text/x-python",
   "name": "python",
   "nbconvert_exporter": "python",
   "pygments_lexer": "ipython3",
   "version": "3.7.0"
  }
 },
 "nbformat": 4,
 "nbformat_minor": 5
}
