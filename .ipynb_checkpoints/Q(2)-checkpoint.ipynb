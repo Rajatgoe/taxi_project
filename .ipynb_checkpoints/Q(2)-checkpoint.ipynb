{
 "cells": [
  {
   "cell_type": "code",
   "execution_count": 6,
   "id": "489c0c74-8b22-454c-8a99-c29fa0f7711b",
   "metadata": {},
   "outputs": [
    {
     "name": "stdout",
     "output_type": "stream",
     "text": [
      "NUMBER| FIELD NAME\n",
      "     1|medallion\n",
      "     2|hack_license\n",
      "     3|vendor_id\n",
      "     4|rate_code\n",
      "     5|store_and_fwd_flag\n",
      "     6|pickup_datetime\n",
      "     7|dropoff_datetime\n",
      "     8|passenger_count\n",
      "     9|trip_time_in_secs\n",
      "     10|trip_distance\n",
      "     11|pickup_longitude\n",
      "     12|pickup_latitude\n",
      "     13|dropoff_longitude\n",
      "     14|dropoff_latitude\n"
     ]
    }
   ],
   "source": [
    "import csv\n",
    "\n",
    "fn = 'trip_data_2.csv'\n",
    "f = open(fn,'r')\n",
    "reader = csv.reader(f)\n",
    "count=1\n",
    "with open('trip_data_2.csv') as f:\n",
    "    reader=csv.reader(f)\n",
    "    line=f.read().splitlines()\n",
    "    fieldnames=line[0]\n",
    "    names=fieldnames.split(\",\")\n",
    "    print(\"NUMBER| FIELD NAME\")\n",
    "    for fields in names:\n",
    "        print(\" \" \" \" \" \" \" \" \" \" \"{}|{}\".format(count,fields))\n",
    "        count=count+1"
   ]
  },
  {
   "cell_type": "code",
   "execution_count": null,
   "id": "379906c7-ae4e-43f2-8acf-83d15d166c3c",
   "metadata": {},
   "outputs": [],
   "source": []
  },
  {
   "cell_type": "code",
   "execution_count": null,
   "id": "e8688840-4499-4ca1-8937-0cfaf963602f",
   "metadata": {},
   "outputs": [],
   "source": []
  }
 ],
 "metadata": {
  "kernelspec": {
   "display_name": "Python 3 (ipykernel)",
   "language": "python",
   "name": "python3"
  },
  "language_info": {
   "codemirror_mode": {
    "name": "ipython",
    "version": 3
   },
   "file_extension": ".py",
   "mimetype": "text/x-python",
   "name": "python",
   "nbconvert_exporter": "python",
   "pygments_lexer": "ipython3",
   "version": "3.7.0"
  }
 },
 "nbformat": 4,
 "nbformat_minor": 5
}
