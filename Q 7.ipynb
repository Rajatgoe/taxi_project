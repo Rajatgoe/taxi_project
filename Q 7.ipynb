{
 "cells": [
  {
   "cell_type": "code",
   "execution_count": 3,
   "id": "fb3116f1-0047-4b03-b81f-ee816095b063",
   "metadata": {},
   "outputs": [
    {
     "ename": "SyntaxError",
     "evalue": "invalid syntax (Temp/ipykernel_6904/744147722.py, line 43)",
     "output_type": "error",
     "traceback": [
      "\u001b[1;36m  File \u001b[1;32m\"C:\\Users\\JAICOM~1\\AppData\\Local\\Temp/ipykernel_6904/744147722.py\"\u001b[1;36m, line \u001b[1;32m43\u001b[0m\n\u001b[1;33m    unique_word_ pickup_datetime=set(pickup_datetime[1:])\u001b[0m\n\u001b[1;37m                               ^\u001b[0m\n\u001b[1;31mSyntaxError\u001b[0m\u001b[1;31m:\u001b[0m invalid syntax\n"
     ]
    }
   ],
   "source": [
    "import csv\n",
    "with open('trip_data_2.csv') as f:\n",
    "    reader=csv.reader(f)\n",
    "    vendor_id=[]\n",
    "    pickup_datetime=[]\n",
    "    dropoff_datetime=[]\n",
    "    passenger_count=[]\n",
    "    trip_time_in_sec=[]\n",
    "    trip_distance=[]\n",
    "    pick_up_lattitude=[]\n",
    "    pick_up_longitude=[]\n",
    "    dropoff_lattitude=[]\n",
    "    dropoff_longitude=[]\n",
    "    store_and_fwd_flag=[]\n",
    "    rade_code=[]\n",
    "    hack_license=[]\n",
    "    medallion=[]\n",
    "    for i,line in enumerate(reader):\n",
    "        medallion.append(line[0])\n",
    "        hack_license.append(line[1])\n",
    "        vendor_id.append(line[2])\n",
    "        rate_code.apppend(line[3])\n",
    "        store_and_fwd_flag.apppend(line[4])\n",
    "        pickup_datetime.apppend(line[5])\n",
    "        dropoff_datetime.apppend(line[6])\n",
    "        passenger_count.apppend(line[7])\n",
    "        trip_time_in_sec.apppend(line[8])\n",
    "        trip_distance.apppend(line[9])\n",
    "        pick_up_longitude.apppend(line[10])\n",
    "        pick_up_lattitude.apppend(line[11])\n",
    "        dropoff_longitude.apppend(line[12])\n",
    "        dropoff_lattitude.apppend(line[13])\n",
    "    unique_word_rate_code=set(rate_code[1:])\n",
    "    print(unique_word_rate_code)\n",
    "    unique_words_medallion = set(medallion[1:])\n",
    "    print(unique_words_medallion)\n",
    "    unique_words_hack_license = set(hack_license[1:])\n",
    "    print(unique_words_hack_license)\n",
    "    unique_word_vendor_id=set(vendor_id[1:])\n",
    "    print(unique_word_vendor_id)\n",
    "    unique_word_store_and_fwd_flag=set(store_and_fwd_flag[1:])\n",
    "    print(unique_word_store_and_fwd_flag)\n",
    "    unique_word_ pickup_datetime=set(pickup_datetime[1:])\n",
    "    print(unique_word_pickup_datetime)\n",
    "    unique_word_dropoff_datetime=set(dropoff_datetime[1:])\n",
    "    print(unique_word_dropoff_datetime)\n",
    "    unique_word_passenger_count=set(passenger_count[1:])\n",
    "    print(unique_word_passenger_count)\n",
    "    unique_word_trip_time_in_sec=set(trip_time_in_sec[1:])\n",
    "    print(unique_word_trip_time_in_sec)\n",
    "    unique_word_trip_distance=set(trip_distance[1:])\n",
    "    print(unique_word_trip_distance)\n",
    "    unique_word_pick_up_longitude=set(pick_up_longitude[1:])\n",
    "    print(unique_word_pick_up_longitude)\n",
    "    unique_word_pick_up_lattitude=set(pick_up_lattitude[1:])\n",
    "    print(unique_word_pick_up_lattitude)\n",
    "    unique_word_ dropoff_lattitude=set( dropoff_lattitude[1:])\n",
    "    print(unique_word_dropoff_lattitude)\n",
    "    unique_word_dropoff_longitude=set(dropoff_longitude[1:])\n",
    "    print(unique_word_dropoff_longitude)\n",
    "        \n"
   ]
  },
  {
   "cell_type": "code",
   "execution_count": null,
   "id": "a8fed3fd-6c3c-488a-838c-3679a47a5e8e",
   "metadata": {},
   "outputs": [],
   "source": []
  }
 ],
 "metadata": {
  "kernelspec": {
   "display_name": "Python 3 (ipykernel)",
   "language": "python",
   "name": "python3"
  },
  "language_info": {
   "codemirror_mode": {
    "name": "ipython",
    "version": 3
   },
   "file_extension": ".py",
   "mimetype": "text/x-python",
   "name": "python",
   "nbconvert_exporter": "python",
   "pygments_lexer": "ipython3",
   "version": "3.7.0"
  }
 },
 "nbformat": 4,
 "nbformat_minor": 5
}
