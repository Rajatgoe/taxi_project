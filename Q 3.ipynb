{
 "cells": [
  {
   "cell_type": "code",
   "execution_count": 1,
   "id": "72be1a2e-1653-459b-a558-2b527340022d",
   "metadata": {},
   "outputs": [
    {
     "name": "stdout",
     "output_type": "stream",
     "text": [
      "['medallion', 'hack_license', 'vendor_id', 'rate_code', 'store_and_fwd_flag', 'pickup_datetime', 'dropoff_datetime', 'passenger_count', 'trip_time_in_secs', 'trip_distance', 'pickup_longitude', 'pickup_latitude', 'dropoff_longitude', 'dropoff_latitude']\n",
      "['1B5C0970F2AE8CFFBA8AE4584BEAED29', 'D961332334524990D1BBD462E2EFB8A4', 'CMT', '1', 'N', '2013-02-08 23:35:14', '2013-02-08 23:42:58', '1', '463', '.80', '-73.992439', '40.724487', '-73.984421', '40.718903']\n",
      "['B42249AE16E2B8E556F1CB1F940D6FB4', 'D4BB308D1F3FCB3434D9DB282CDC93D7', 'CMT', '1', 'N', '2013-02-07 12:20:16', '2013-02-07 12:50:27', '4', '1810', '3.10', '-73.989494', '40.769588', '-73.990303', '40.737347']\n",
      "['890699222C47C09FBC898758CEC69762', '6318C3AEC02248928C3345B5805EB905', 'CMT', '1', 'N', '2013-02-08 08:56:54', '2013-02-08 08:59:43', '1', '168', '1.00', '-73.963036', '40.799141', '-73.972168', '40.786446']\n",
      "['74B7D835C2CD98606D5256DA8A38E045', 'D5E278C918256D1F97680A1F04D290E0', 'CMT', '1', 'N', '2013-02-08 09:37:02', '2013-02-08 09:50:50', '1', '828', '2.10', '-73.987953', '40.728764', '-74.007118', '40.705399']\n",
      "['4003B8478418FEC5D761E2F37602769B', '0B766F1054A5C16D86BC023858BD8143', 'CMT', '1', 'N', '2013-02-08 19:31:25', '2013-02-08 19:46:23', '1', '897', '3.30', '-73.987282', '40.743042', '-74.010284', '40.703964']\n",
      "['D72DF7B12201912BFDBB93081EF04C96', 'AFD828EEF790A2485BBB0B568A8BE22E', 'CMT', '1', 'N', '2013-02-08 23:10:01', '2013-02-08 23:46:15', '4', '2173', '7.60', '-73.993004', '40.720154', '-73.959747', '40.80854']\n"
     ]
    }
   ],
   "source": [
    "import csv, time\n",
    "\n",
    "fn = 'trip_data_2.csv'\n",
    "f = open(fn,'r')\n",
    "reader = csv.reader(f)\n",
    "n=0\n",
    "for row in reader:\n",
    "    print(row)   #it will be taking 1 row at a time\n",
    "    if n>5:   #to breal the loop after 10\n",
    "        break   #for exit from loop after 10 th row\n",
    "    n+=1       # setting the n vale to increase by 1 till  10th row"
   ]
  },
  {
   "cell_type": "code",
   "execution_count": null,
   "id": "ae782289-c8f9-4440-a882-e17ac8d33248",
   "metadata": {},
   "outputs": [],
   "source": []
  }
 ],
 "metadata": {
  "kernelspec": {
   "display_name": "Python 3 (ipykernel)",
   "language": "python",
   "name": "python3"
  },
  "language_info": {
   "codemirror_mode": {
    "name": "ipython",
    "version": 3
   },
   "file_extension": ".py",
   "mimetype": "text/x-python",
   "name": "python",
   "nbconvert_exporter": "python",
   "pygments_lexer": "ipython3",
   "version": "3.7.0"
  }
 },
 "nbformat": 4,
 "nbformat_minor": 5
}
