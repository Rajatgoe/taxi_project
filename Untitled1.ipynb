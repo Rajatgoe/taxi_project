{
 "cells": [
  {
   "cell_type": "code",
   "execution_count": null,
   "id": "5ff319c3-9b2a-4b9f-8734-034063b2fc86",
   "metadata": {},
   "outputs": [],
   "source": []
  },
  {
   "cell_type": "code",
   "execution_count": 29,
   "id": "ba6e94be-3bb6-423a-b6fe-6542e75d89d9",
   "metadata": {},
   "outputs": [
    {
     "name": "stdout",
     "output_type": "stream",
     "text": [
      "| COLUMN NUMBER |    FIELD NAME   | STARTING RANGE   | ENDING RANGE |\n",
      "|---------------|-----------------|------------------|---------------|\n",
      "|             1 |Pickup_datetime  | 2013-02-08 23:35:14 | 2013-02-05 22:44:00 |\n",
      "|             2 |Dropoff_datetime | 2013-02-08 23:42:58 | 2013-02-05 23:01:00 |\n"
     ]
    }
   ],
   "source": [
    "import csv, time, datetime\n",
    "\n",
    "fn = 'trip_data_2.csv'\n",
    "f = open(fn,'r')         #it will not upload all the data at once into memory, valueabe and time saving\n",
    "reader = csv.reader(f)\n",
    "\n",
    "line=f.read().splitlines()\n",
    "first_line=line[1]\n",
    "starting_range=first_line.split(',')\n",
    "last_line=line[-1]\n",
    "lastline_range=last_line.split(',')\n",
    "\n",
    "print('| COLUMN NUMBER |    FIELD NAME   | STARTING RANGE   | ENDING RANGE |')\n",
    "print('|---------------|-----------------|------------------|---------------|')\n",
    "print('|             1 |Pickup_datetime  | {} | {} |'.format(starting_range[5],lastline_range[5])) \n",
    "print('|             2 |Dropoff_datetime | {} | {} |'.format(starting_range[6],lastline_range[6])) \n",
    "\n"
   ]
  },
  {
   "cell_type": "code",
   "execution_count": null,
   "id": "0dad8e05-399b-46a5-90c3-75019ab69e71",
   "metadata": {},
   "outputs": [],
   "source": []
  }
 ],
 "metadata": {
  "kernelspec": {
   "display_name": "Python 3 (ipykernel)",
   "language": "python",
   "name": "python3"
  },
  "language_info": {
   "codemirror_mode": {
    "name": "ipython",
    "version": 3
   },
   "file_extension": ".py",
   "mimetype": "text/x-python",
   "name": "python",
   "nbconvert_exporter": "python",
   "pygments_lexer": "ipython3",
   "version": "3.7.0"
  }
 },
 "nbformat": 4,
 "nbformat_minor": 5
}
