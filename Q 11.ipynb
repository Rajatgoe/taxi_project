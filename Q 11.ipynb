{
 "cells": [
  {
   "cell_type": "code",
   "execution_count": 5,
   "id": "ecaf5fff-7332-4fab-9eca-d5c0d0fd6698",
   "metadata": {},
   "outputs": [
    {
     "name": "stdout",
     "output_type": "stream",
     "text": [
      "133745.51230570482\n",
      "[9.56144640446846, 19.12289280893692, 28.68433921340538, 38.24578561787384, 47.807232022342305, 57.36867842681076, 66.93012483127923, 76.49157123574768, 86.05301764021614, 95.61446404468461, 105.17591044915306, 114.73735685362152, 124.29880325808999, 133.86024966255846, 143.42169606702691, 152.98314247149537, 162.54458887596383, 172.10603528043228, 181.66748168490076, 191.22892808936922, 200.79037449383767, 210.35182089830613, 219.91326730277459, 229.47471370724304]\n"
     ]
    },
    {
     "data": {
      "image/png": "[encoded data removed]",
      "text/plain": [
       "<Figure size 432x288 with 1 Axes>"
      ]
     },
     "metadata": {
      "needs_background": "light"
     },
     "output_type": "display_data"
    }
   ],
   "source": [
    "import csv\n",
    "import matplotlib.pyplot as plt\n",
    "passenger_count=[]\n",
    "count=0\n",
    "count3=1\n",
    "count2=1\n",
    "sum=0\n",
    "value=0\n",
    "average=[]\n",
    "hour=[]\n",
    "sec=3600\n",
    "dict={}\n",
    "average_number_of_passenger=[]\n",
    "trip_in_sec=[]\n",
    "trip_in_hour=[]\n",
    "with open('trip_data_2.csv',) as f:\n",
    "    reader=csv.reader(f)\n",
    "    for i,line in enumerate(reader):\n",
    "        if(count>=1):\n",
    "            if(count%1000==0):\n",
    "                passenger_count.append(line[3])\n",
    "                trip_in_sec.append(line[8])\n",
    "        count=count+1\n",
    "    #print(len(passenger_count))       \n",
    "    passenger_count =[int(i) for i in passenger_count[1:]]\n",
    "    trip_in_sec =[int(i) for i in trip_in_sec[1:]]\n",
    "    for x in trip_in_sec[1:]:\n",
    "        value=trip_in_sec[count3]/sec\n",
    "        trip_in_hour.append(value)\n",
    "        count3=count3+1\n",
    "    #print(len(passenger_count))\n",
    "    hour=[1,2,3,4,5,6,7,8,9,10,11,12,13,14,15,16,17,18,19,20,21,22,23,24]\n",
    "    for x in range(1,len(passenger_count[1:])):\n",
    "        try:\n",
    "            value=passenger_count[count2]/trip_in_hour[count2]\n",
    "        except:ZeroDivisionError\n",
    "        sum=sum+value\n",
    "        count2=count2+1\n",
    "    print(sum)   \n",
    "    for i in hour:\n",
    "        average.append((sum/len(passenger_count[1:]))*i)\n",
    "    print(average)\n",
    "    plt.plot(hour,average,color='red', marker='o')\n",
    "    plt.title('average number of passenger per hour', fontsize=15)\n",
    "    plt.xlabel('hour', fontsize=15)\n",
    "    plt.ylabel('number of passenger', fontsize=15)\n",
    "    plt.grid(True)\n",
    "    plt.show()\n"
   ]
  },
  {
   "cell_type": "code",
   "execution_count": null,
   "id": "ae53f130-ef97-40b7-8efb-a39d30b813c6",
   "metadata": {},
   "outputs": [],
   "source": []
  }
 ],
 "metadata": {
  "kernelspec": {
   "display_name": "Python 3 (ipykernel)",
   "language": "python",
   "name": "python3"
  },
  "language_info": {
   "codemirror_mode": {
    "name": "ipython",
    "version": 3
   },
   "file_extension": ".py",
   "mimetype": "text/x-python",
   "name": "python",
   "nbconvert_exporter": "python",
   "pygments_lexer": "ipython3",
   "version": "3.7.0"
  }
 },
 "nbformat": 4,
 "nbformat_minor": 5
}
