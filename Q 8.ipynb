{
 "cells": [
  {
   "cell_type": "code",
   "execution_count": 2,
   "id": "29931cae-45dd-411c-b5fb-3124b5a5ceba",
   "metadata": {},
   "outputs": [
    {
     "ename": "SyntaxError",
     "evalue": "invalid syntax (Temp/ipykernel_1964/4079554187.py, line 15)",
     "output_type": "error",
     "traceback": [
      "\u001b[1;36m  File \u001b[1;32m\"C:\\Users\\JAICOM~1\\AppData\\Local\\Temp/ipykernel_1964/4079554187.py\"\u001b[1;36m, line \u001b[1;32m15\u001b[0m\n\u001b[1;33m    rate_code =[int(i) for i in rate_code[1:]]\u001b[0m\n\u001b[1;37m            ^\u001b[0m\n\u001b[1;31mSyntaxError\u001b[0m\u001b[1;31m:\u001b[0m invalid syntax\n"
     ]
    }
   ],
   "source": [
    "import csv\n",
    "count=1\n",
    "id1=0  \n",
    "rate_code=[]\n",
    "passenger_count=[]\n",
    "trip_distance=[] #float\n",
    "trip_in_sec=[]\n",
    "with open('trip_data_6.csv') as f:\n",
    "    reader=csv.reader(f)\n",
    "    for i,line in enumerate(reader):\n",
    "        rate_code.append(line[3])\n",
    "        passenger_count.append(line[7])\n",
    "        trip_distance.append(line[9])\n",
    "        trip_in_sec.append(line[8]\n",
    "    rate_code =[int(i) for i in rate_code[1:]]\n",
    "    passenger_count=[int(i) for i in passenger_count[1:]]\n",
    "    trip_in_sec=[int(i) for i in trip_in_sec[1:]]\n",
    "    trip_distance=[float(i) for i in trip_distance[1:]]\n",
    "    minrate=rate_code[0]\n",
    "    maxrate=rate_code[0]\n",
    "    minpasct=passenger_count[0] \n",
    "    maxpasct=passenger_count[0]\n",
    "    mintriptime=trip_in_sec[0]\n",
    "    maxtriptime=trip_in_sec[0] \n",
    "    mintripdis=trip_distance[0] \n",
    "    maxtripdis=trip_distance[0]                       \n",
    "    for x in rate_code[1:]:\n",
    "        if(minrate > rate_code[count]& minrate!=0):\n",
    "            minrate=rate_code[count]\n",
    "            id1=count\n",
    "        if(maxrate < rate_code[count]):\n",
    "            maxrate=rate_code[count]\n",
    "            id2=count\n",
    "        count=count+1\n",
    "    print(minrate)\n",
    "    print(maxrate)\n",
    "    for x in passenger_count[1:]:\n",
    "       if(minpasct > passenger_count[count1]& minpasct!=0):\n",
    "            minpasct=passenger_count[count1]\n",
    "            id1=count1\n",
    "        if(maxpasct < passenger_count[count1]):\n",
    "            maxpasct=passenger_count[count1]\n",
    "            id2=count1\n",
    "        count1=count1+1\n",
    "    print(minpasct)\n",
    "    print(maxpasct)    \n",
    "    for x in trip_in_sec[1:]:\n",
    "        if(mintriptime > trip_in_sec[count3]& minrate!=0):\n",
    "            mintriptime=trip_in_sec[count3]\n",
    "            id1=count3\n",
    "        if(maxtriptime < trip_in_sec[count3]):\n",
    "            maxtriptime=trip_in_sec[count3]\n",
    "            id2=count3\n",
    "        count=count+1\n",
    "    print(mintriptime)\n",
    "    print(maxtriptime)\n",
    "   for x in trip_distance[1:]:\n",
    "        if(mintripdis > trip_distance[count4]& minrate!=0):\n",
    "           mintripdis=trip_distance[count4]\n",
    "            id1=count4\n",
    "        if(maxtripdis < trip_distance[count4]):\n",
    "            maxtripdis=trip_distance[count4]\n",
    "            id2=count4\n",
    "        count4=count4+1\n",
    "    print(mintripdis)\n",
    "    print(maxtripdis)\n"
   ]
  },
  {
   "cell_type": "code",
   "execution_count": null,
   "id": "cd275b21-d930-4cd3-9033-aefd9e4011fb",
   "metadata": {},
   "outputs": [],
   "source": []
  }
 ],
 "metadata": {
  "kernelspec": {
   "display_name": "Python 3 (ipykernel)",
   "language": "python",
   "name": "python3"
  },
  "language_info": {
   "codemirror_mode": {
    "name": "ipython",
    "version": 3
   },
   "file_extension": ".py",
   "mimetype": "text/x-python",
   "name": "python",
   "nbconvert_exporter": "python",
   "pygments_lexer": "ipython3",
   "version": "3.7.0"
  }
 },
 "nbformat": 4,
 "nbformat_minor": 5
}
