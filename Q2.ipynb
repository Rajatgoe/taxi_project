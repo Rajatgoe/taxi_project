{
 "cells": [
  {
   "cell_type": "code",
   "execution_count": 1,
   "id": "f0cf778d-ebcf-4b1b-b572-07c3e6a9a4ec",
   "metadata": {},
   "outputs": [
    {
     "name": "stdout",
     "output_type": "stream",
     "text": [
      "['medallion', 'hack_license', 'vendor_id', 'rate_code', 'store_and_fwd_flag', 'pickup_datetime', 'dropoff_datetime', 'passenger_count', 'trip_time_in_secs', 'trip_distance', 'pickup_longitude', 'pickup_latitude', 'dropoff_longitude', 'dropoff_latitude']\n"
     ]
    }
   ],
   "source": [
    "import csv, time\n",
    "\n",
    "fn = 'trip_data_2.csv'\n",
    "f = open(fn,'r')\n",
    "reader = csv.reader(f)\n",
    "\n",
    "for row in reader:\n",
    "    print(row)\n",
    "    break   #for exit from loop\n",
    "    \n",
    "    \n",
    "      \n"
   ]
  },
  {
   "cell_type": "code",
   "execution_count": null,
   "id": "0ee979c1-a14a-4988-bd80-d8123d55780f",
   "metadata": {},
   "outputs": [],
   "source": []
  },
  {
   "cell_type": "code",
   "execution_count": null,
   "id": "d836dd80-348c-4179-8aeb-0023dbc5b74d",
   "metadata": {},
   "outputs": [],
   "source": []
  }
 ],
 "metadata": {
  "kernelspec": {
   "display_name": "Python 3 (ipykernel)",
   "language": "python",
   "name": "python3"
  },
  "language_info": {
   "codemirror_mode": {
    "name": "ipython",
    "version": 3
   },
   "file_extension": ".py",
   "mimetype": "text/x-python",
   "name": "python",
   "nbconvert_exporter": "python",
   "pygments_lexer": "ipython3",
   "version": "3.7.0"
  }
 },
 "nbformat": 4,
 "nbformat_minor": 5
}
